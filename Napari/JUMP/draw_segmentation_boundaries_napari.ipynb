{
 "cells": [
  {
   "cell_type": "code",
   "execution_count": null,
   "metadata": {},
   "outputs": [],
   "source": [
    "\"\"\"\n",
    "File: draw_segmentation_boundaries_napari.ipynb\n",
    "Author: Clinton Reid\n",
    "Description: creates and saves images (ch1 images in this case) overlaid with nuclear outlines and points representing\n",
    "            the centre of said nuclei. assumes this notebook is in the same folder as the folder containing rounds imaging data folders.\n",
    "\"\"\""
   ]
  },
  {
   "cell_type": "code",
   "execution_count": 2,
   "metadata": {},
   "outputs": [],
   "source": [
    "# built-in imports\n",
    "\n",
    "import os\n",
    "from glob import glob\n",
    "\n",
    "# libraries\n",
    "import pandas as pd\n",
    "import numpy as np\n",
    "import tifffile as tiff\n",
    "import napari\n",
    "from skimage.io import imsave"
   ]
  },
  {
   "cell_type": "code",
   "execution_count": 4,
   "metadata": {},
   "outputs": [],
   "source": [
    "nuclear_channel = 5\n",
    "view_channel = 1 # channel image to be shown\n",
    "current_folder = os.getcwd()\n",
    "image_sets_folder = os.path.join(current_folder, 'Images')"
   ]
  },
  {
   "cell_type": "code",
   "execution_count": null,
   "metadata": {},
   "outputs": [],
   "source": [
    "image_sets = os.listdir(image_sets_folder)\n",
    "\n",
    "viewer = napari.Viewer()\n",
    "\n",
    "for image_set in image_sets:\n",
    "    # filters out all files (anything with a '.' in the name likely has some file extension) in this folder\n",
    "    if '.' not in image_set:\n",
    "        image_set_folder = os.path.join(image_sets_folder, image_set)\n",
    "        nuclear_mask, ch1_image = None, None\n",
    "        \n",
    "        # look only through previously generated cellpose outputs\n",
    "        for file in glob(image_set_folder + '/*_seg.npy'):\n",
    "\n",
    "            if int(file.split('h')[1][0]) == nuclear_channel: # find the nuclear output using file naming convention\n",
    "                dat = np.load(file, allow_pickle=True).item() # then load the outlines\n",
    "                nuclear_mask = dat['outlines'] \n",
    "\n",
    "        for file in glob(image_set_folder + '/*.tiff'):\n",
    "            # we can find the desired image (ch1) in a similar way\n",
    "            if int(file.split('h')[1][0]) == view_channel:\n",
    "                ch1_image = tiff.imread(file)\n",
    "\n",
    "        nucleus_locations = pd.read_csv(os.path.join(image_set_folder, 'nuc_center.csv'))\n",
    "        \n",
    "        viewer.add_image(ch1_image, name='ch1_image')\n",
    "\n",
    "        if nuclear_mask is not None:\n",
    "\n",
    "            viewer.add_labels(nuclear_mask, num_colors=1, name='nuclear_mask', opacity=0.7) # make all nuclei same color\n",
    "\n",
    "        viewer.add_points(nucleus_locations[['centroid-0', 'centroid-1']], name='nuclei_locations', size=5, face_color='blue', edge_color='blue')\n",
    "    \n",
    "        screenshot = viewer.screenshot()\n",
    "        ss_path = os.path.join(image_set_folder, 'nuclear_outlines_and_centers.png')\n",
    "        imsave(ss_path, screenshot, check_contrast=False)\n",
    "\n",
    "viewer.close()\n"
   ]
  }
 ],
 "metadata": {
  "kernelspec": {
   "display_name": "Python 3",
   "language": "python",
   "name": "python3"
  },
  "language_info": {
   "codemirror_mode": {
    "name": "ipython",
    "version": 3
   },
   "file_extension": ".py",
   "mimetype": "text/x-python",
   "name": "python",
   "nbconvert_exporter": "python",
   "pygments_lexer": "ipython3",
   "version": "3.9.18"
  }
 },
 "nbformat": 4,
 "nbformat_minor": 2
}
