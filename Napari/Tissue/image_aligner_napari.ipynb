{
 "cells": [
  {
   "cell_type": "code",
   "execution_count": null,
   "metadata": {},
   "outputs": [],
   "source": [
    "\"\"\"\n",
    "File: image_aligner_napari.ipynb\n",
    "Author: Clinton Reid\n",
    "Description: aligns images across multiple imaging rounds, displays them as different colours, then saves the\n",
    "             aligned images as one multi-colored blended image. assumes notebook in the same folder as\n",
    "             the folder containing aligned images.\n",
    "\"\"\""
   ]
  },
  {
   "cell_type": "code",
   "execution_count": 2,
   "metadata": {},
   "outputs": [],
   "source": [
    "# built-in imports\n",
    "import os\n",
    "from glob import glob\n",
    "\n",
    "# libraries\n",
    "import numpy as np \n",
    "import napari\n",
    "import cv2 as cv\n",
    "from skimage.io import imsave\n",
    "from skimage import exposure"
   ]
  },
  {
   "cell_type": "code",
   "execution_count": 3,
   "metadata": {},
   "outputs": [],
   "source": [
    "current_folder = os.getcwd()\n",
    "align_folder = os.path.join(current_folder, 'align')\n",
    "\n",
    "# these lines identify and read in all tiff files in the align folder that have names ending in numbers \n",
    "# (per our established naming convention for aligned images, 'aligned_0.tiff')\n",
    "\n",
    "all_imgs = glob(align_folder + '/*.tiff')\n",
    "to_show = [cv.imread(img, cv.IMREAD_GRAYSCALE) for img in all_imgs if img.split('.')[0][-1].isdigit()]"
   ]
  },
  {
   "cell_type": "code",
   "execution_count": null,
   "metadata": {},
   "outputs": [],
   "source": [
    "to_show = [exposure.rescale_intensity(img, in_range=(0,255)) for img in to_show]\n",
    "to_show = [img.astype(np.uint8) for img in to_show]\n",
    "\n",
    "color_map = ['blue', 'red']\n",
    "\n",
    "viewer = napari.Viewer()\n",
    "\n",
    "for i in range(len(to_show)):\n",
    "    print(i)\n",
    "    rd = to_show[i]\n",
    "    # add both images as layers in the viewer with additive blending applied to colours\n",
    "    viewer.add_image(rd, colormap = color_map[i], name=f'Round{i+1}', blending='additive') \n",
    "\n",
    "blend = viewer.screenshot()\n",
    "blend_path = os.path.join(align_folder, 'blended.png')\n",
    "imsave(blend_path, blend, check_contrast=False)\n",
    "\n",
    "viewer.close()"
   ]
  }
 ],
 "metadata": {
  "kernelspec": {
   "display_name": "Python 3",
   "language": "python",
   "name": "python3"
  },
  "language_info": {
   "codemirror_mode": {
    "name": "ipython",
    "version": 3
   },
   "file_extension": ".py",
   "mimetype": "text/x-python",
   "name": "python",
   "nbconvert_exporter": "python",
   "pygments_lexer": "ipython3",
   "version": "3.9.18"
  }
 },
 "nbformat": 4,
 "nbformat_minor": 2
}
