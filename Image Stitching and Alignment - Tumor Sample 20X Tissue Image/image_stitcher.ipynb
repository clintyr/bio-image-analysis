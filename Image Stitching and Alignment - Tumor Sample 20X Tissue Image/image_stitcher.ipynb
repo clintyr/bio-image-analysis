{
 "cells": [
  {
   "cell_type": "code",
   "execution_count": null,
   "metadata": {},
   "outputs": [],
   "source": [
    "\"\"\"\n",
    "File: image_stitcher.ipynb\n",
    "Author: Clinton Reid\n",
    "Description: stitches multiple fields of view into one image considering overlap; aligns images across imaging rounds\n",
    "             assumes this notebook is in the same folder as the imaging round folders.\n",
    "\"\"\""
   ]
  },
  {
   "cell_type": "code",
   "execution_count": 2,
   "metadata": {},
   "outputs": [],
   "source": [
    "# built-in imports\n",
    "import os\n",
    "\n",
    "# libraries\n",
    "import cv2 as cv\n",
    "import numpy as np\n",
    "import pandas as pd"
   ]
  },
  {
   "cell_type": "code",
   "execution_count": 3,
   "metadata": {},
   "outputs": [],
   "source": [
    "current_folder = os.getcwd()"
   ]
  },
  {
   "cell_type": "code",
   "execution_count": 4,
   "metadata": {},
   "outputs": [],
   "source": [
    "locations_csv_path = os.path.join(current_folder, 'image_locations.csv')\n",
    "image_locations = pd.read_csv(locations_csv_path)\n",
    "\n",
    "overlap = 0.15"
   ]
  },
  {
   "cell_type": "code",
   "execution_count": 6,
   "metadata": {},
   "outputs": [],
   "source": [
    "def vertical_stitch_images(images_to_stitch, overlap):\n",
    "    \"\"\"\n",
    "    Returns the result of stitching multiple images vertically with same associated overlap.\n",
    "\n",
    "        Parameters:\n",
    "            images_to_stitch (list of numpy arrays): same-width images in the order they are to be joined in. \n",
    "            Earlier images in the list are above later ones.\n",
    "\n",
    "            overlap (float): decimal representing the percentage overlap between images\n",
    "\n",
    "        Returns:\n",
    "            vertical_stitched (numpy array): image representing the stitching of images in images_to_stitch\n",
    "    \"\"\"\n",
    "    overlap_height = int(images_to_stitch[0].shape[0] * overlap)\n",
    "\n",
    "    vertical_stitched = images_to_stitch[0] # initialize the stitched image as the first\n",
    "\n",
    "    # iteratively stitch each remaining image to the previously stitched image\n",
    "    for i in range(1, len(images_to_stitch)): \n",
    "        non_overlap_region = images_to_stitch[i][overlap_height:, :] # region that doesn't overlap with previous stitched image\n",
    "\n",
    "        vertical_stitched = np.vstack([vertical_stitched[:-overlap_height, :], non_overlap_region])\n",
    "\n",
    "    return vertical_stitched\n",
    "\n",
    "def horizontal_stitch_images(images_to_stitch, overlap):\n",
    "    \"\"\"\n",
    "    Returns the result of stitching multiple images horizontally with same associated overlap.\n",
    "\n",
    "        Parameters:\n",
    "            images_to_stitch (list of numpy arrays): same-height images in the order they are to be joined in.\n",
    "            Earlier images in the list are to the left of later ones.\n",
    "            \n",
    "            overlap (float): decimal representing the percentage overlap between images\n",
    "\n",
    "        Returns:\n",
    "            horizontal_stitched (numpy array): image representing the stitching of images in images_to_stitch\n",
    "    \"\"\"\n",
    "    overlap_width = int(images_to_stitch[0].shape[1] * overlap)\n",
    "\n",
    "    horizontal_stitched = images_to_stitch[0]\n",
    "    for i in range(1, len(images_to_stitch)):\n",
    "        non_overlap_region = images_to_stitch[i][:, overlap_width:]\n",
    "        new_image = np.hstack([horizontal_stitched[:, :-overlap_width], non_overlap_region])\n",
    "        horizontal_stitched = new_image\n",
    "\n",
    "    return horizontal_stitched\n"
   ]
  },
  {
   "cell_type": "code",
   "execution_count": 7,
   "metadata": {},
   "outputs": [],
   "source": [
    "def create_fov_grid(image_locations, current_folder, round_folder):\n",
    "    \"\"\"\n",
    "    Returns a nested array of images corresponding to their capture positions on the slide.\n",
    "\n",
    "        Parameters:\n",
    "            image_locations (pandas.DataFrame): table containing (x, y) positional info for each field on slide\n",
    "                Index:\n",
    "                    RangeIndex\n",
    "                Columns:\n",
    "                    Name: FieldID, dtype: int64\n",
    "                    Name: X, dtype: float64\n",
    "                    Name: Y, dtype: float64\n",
    "\n",
    "            current_folder (str): path to current working directory\n",
    "\n",
    "            round_folder (str): name of folder containing images for a particular imaging round\n",
    "\n",
    "        Returns:\n",
    "            image_fov_grid (nested list of numpy arrays): list of images representing their row and column positions on slide\n",
    "    \"\"\"\n",
    "    \n",
    "    # fields of view sorted by Y coordinate first since we are building this grid row-wise\n",
    "    sorted_image_locations = image_locations.sort_values(by=['Y', 'X'])\n",
    "    \n",
    "    image_fov_grid = []\n",
    "    current_y = None\n",
    "    current_img_row = None\n",
    "\n",
    "    for idx, row in sorted_image_locations.iterrows():\n",
    "        # loading images from bottom left corner to top right corner\n",
    "\n",
    "        field_id = str(int(row['FieldID'])).zfill(2) # leading 0's necessary for f01-f09\n",
    "        filename = f'r01c04f{field_id}p02-ch1sk1fk1fl1.tiff'\n",
    "\n",
    "        image_path = os.path.join(current_folder, round_folder, 'Images', filename)\n",
    "        image = cv.imread(image_path)\n",
    "\n",
    "        # in order to build row-wise, keep track of current value of Y\n",
    "        if row['Y'] != current_y:\n",
    "            # for every new value of Y, build a new image row\n",
    "            current_y = row['Y']\n",
    "            current_img_row = [image]\n",
    "            image_fov_grid.append(current_img_row)\n",
    "        else:\n",
    "            # otherwise, continue building the current row\n",
    "            current_img_row.append(image)\n",
    "    \n",
    "    return image_fov_grid"
   ]
  },
  {
   "cell_type": "code",
   "execution_count": 8,
   "metadata": {},
   "outputs": [],
   "source": [
    "round_nums = [1,2]\n",
    "\n",
    "for round in round_nums:\n",
    "    round_folder = 'Round' + str(round)\n",
    "    image_fov_grid = create_fov_grid(image_locations, current_folder, round_folder)\n",
    "    horizontal_panoramas = []\n",
    "\n",
    "    for image_row in image_fov_grid:\n",
    "        # stitch together all images in each row into individual panoramas\n",
    "        horizontal_panorama = horizontal_stitch_images(image_row, overlap)\n",
    "        if horizontal_panorama is not None:\n",
    "            horizontal_panoramas.append(horizontal_panorama)\n",
    "        \n",
    "    horizontal_panoramas = horizontal_panoramas[::-1] # avoids upside down stitching\n",
    "\n",
    "    full_image = vertical_stitch_images(horizontal_panoramas, overlap) # stitch panoramas into complete image\n",
    "    cv.imwrite(os.path.join(current_folder, round_folder, 'Images', 'stitched.tiff'), full_image)\n"
   ]
  },
  {
   "cell_type": "code",
   "execution_count": 9,
   "metadata": {},
   "outputs": [],
   "source": [
    "all_files = os.listdir(current_folder)\n",
    "rounds = sorted([file for file in all_files if 'Round' in file]) # folders containing imaging data from each round\n",
    "\n",
    "image_list = [cv.imread(os.path.join(current_folder, round, 'Images', 'stitched.tiff'), cv.IMREAD_GRAYSCALE) for round in rounds]"
   ]
  },
  {
   "cell_type": "code",
   "execution_count": 10,
   "metadata": {},
   "outputs": [],
   "source": [
    "def pad_image(image):\n",
    "    \"\"\"\n",
    "    Returns an image with a 5% black padding around it.\n",
    "\n",
    "        Parameters:\n",
    "            image (numpy array)\n",
    "\n",
    "        Returns:\n",
    "            padded_image (numpy array): padded image\n",
    "    \"\"\"\n",
    "    height, width = image.shape\n",
    "    padded_image = cv.copyMakeBorder(image, int(0.05*height), int(0.05*height), int(0.05*width), int(0.05*width), cv.BORDER_CONSTANT, value=(0,0,0))\n",
    "    return padded_image\n",
    "\n",
    "def align_and_save_images(image_list, current_folder):\n",
    "    \"\"\"\n",
    "    Aligns images to a single reference image and saves all of them.\n",
    "\n",
    "        Parameters:\n",
    "            image_list: list of images (as arrays) to be aligned. it is expected that image_list[0] be the reference image for all alignments.\n",
    "                        it is also expected that all images in image_list are the same size or larger than the reference.\n",
    "\n",
    "            current_folder: path to current working directory\n",
    "\n",
    "        Returns:\n",
    "            Saves aligned images as tiffs together in 'align' folder in current working directory. reference will be saved as aligned_1.tiff\n",
    "            All output images are of the same dimensions as reference image.\n",
    "    \"\"\"\n",
    "    ref_image = image_list[0]\n",
    "    align_folder = os.path.join(current_folder, 'align')\n",
    "    if not os.path.exists(align_folder):\n",
    "        os.makedirs(align_folder)\n",
    "\n",
    "    cv.imwrite(f\"{align_folder}/aligned_1.tiff\", ref_image)\n",
    "    height, width = ref_image.shape\n",
    "\n",
    "    for i in range(1, len(image_list)):\n",
    "        print('template matching...')\n",
    "        padded_image = pad_image(image_list[i]) # creates a padded version of image to be aligned\n",
    "\n",
    "        # template matching slides the reference image over the padded image and returns a grayscale image corresponding\n",
    "        # to how well the reference matches the padded image at that position in terms of cross-correlation (in this case)\n",
    "\n",
    "        res = cv.matchTemplate(padded_image, ref_image, cv.TM_CCOEFF_NORMED)\n",
    "        \n",
    "        # identify the position of the reference image's top-left corner corresponding to maximum correlation\n",
    "        # it is this position that will be the top-left ofthe newly aligned image\n",
    "\n",
    "        _, _, _, max_loc = cv.minMaxLoc(res) \n",
    "        x, y = max_loc\n",
    "\n",
    "        aligned_img = padded_image[y: y + height, x: x + width]\n",
    "\n",
    "        cv.imwrite(f\"{align_folder}/aligned_{i+1}.tiff\", aligned_img)\n",
    "\n",
    "    return True\n"
   ]
  },
  {
   "cell_type": "code",
   "execution_count": 11,
   "metadata": {},
   "outputs": [
    {
     "name": "stdout",
     "output_type": "stream",
     "text": [
      "template matching...\n"
     ]
    },
    {
     "data": {
      "text/plain": [
       "True"
      ]
     },
     "execution_count": 11,
     "metadata": {},
     "output_type": "execute_result"
    }
   ],
   "source": [
    "align_and_save_images(image_list, current_folder)"
   ]
  }
 ],
 "metadata": {
  "kernelspec": {
   "display_name": "Python 3",
   "language": "python",
   "name": "python3"
  },
  "language_info": {
   "codemirror_mode": {
    "name": "ipython",
    "version": 3
   },
   "file_extension": ".py",
   "mimetype": "text/x-python",
   "name": "python",
   "nbconvert_exporter": "python",
   "pygments_lexer": "ipython3",
   "version": "3.9.18"
  }
 },
 "nbformat": 4,
 "nbformat_minor": 2
}
